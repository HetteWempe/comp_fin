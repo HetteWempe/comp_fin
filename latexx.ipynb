{
 "cells": [
  {
   "cell_type": "markdown",
   "metadata": {},
   "source": [
    "# EXERCISE 2"
   ]
  },
  {
   "cell_type": "markdown",
   "metadata": {},
   "source": [
    "## 2.1"
   ]
  },
  {
   "cell_type": "markdown",
   "metadata": {},
   "source": [
    "Here we solve the Black-Scholes PDE, given by:\n",
    "\n",
    "\\begin{align}\n",
    "    r C(s, t) = \\frac{\\partial C}{\\partial t}(s, t) + r s \\frac{\\partial C}{\\partial s}(s, t) + \\frac{\\sigma^2}{2} s^2 \\frac{\\partial^2 C}{\\partial s^2}(s, t), \\notag\n",
    "\\end{align}\n",
    "\n",
    "where $r\\geq 0$ denotes the risk-free interest rate, $s>0$, and $t \\in[0,T]$. The terminal condition is given by:\n",
    "\n",
    "\\begin{align}\n",
    "    C(s,T)=s^2. \\notag\n",
    "\\end{align}\n",
    "\n",
    "We try a solution of the form $C(s,t) = s^2f(t)$, and determine $f(t)$."
   ]
  },
  {
   "cell_type": "markdown",
   "metadata": {},
   "source": [
    "We substitute the given solution and take derivatives accordingly to obtain:\n",
    "\n",
    "\\begin{align}\n",
    "    r s^2f(t) = s^2 f'(t) + 2rs^2f(t) + \\sigma^2s^2f(t) \\notag\\\\\n",
    "    f(t)(rs^2 - 2rs^2 - \\sigma^2s^2) = s^2f'(t) \\notag\\\\\n",
    "    f'(t) = (-r-\\sigma^2)f(t) \\notag\n",
    "\\end{align}\n",
    "\n",
    "This is an ODE we can solve, we obtain:\n",
    "\n",
    "\\begin{align}\n",
    "f(t) = A\\cdot \\text{exp}\\{-(r+\\sigma^2)t\\}. \\notag\n",
    "\\end{align}\n",
    "\n",
    "We use the given terminal condition to find the value for $A$:\n",
    "\n",
    "\\begin{align}\n",
    "C(s,T) = s^2f(T) = s^2 \\notag\\\\\n",
    "A\\cdot \\text{exp}\\{-(r+\\sigma^2)T\\} = 1\\notag\\\\\n",
    "A = \\text{exp}\\{(r+\\sigma^2)T\\} \\notag\n",
    "\\end{align}"
   ]
  },
  {
   "cell_type": "markdown",
   "metadata": {},
   "source": [
    "It follows the Black-Scholes PDE is solved for the following solution:\n",
    "\n",
    "\\begin{align}\n",
    "    C(s,t) = s^2 \\cdot \\text{exp}\\{(r+\\sigma^2)(T-t)\\} . \\notag\n",
    "\\end{align}"
   ]
  },
  {
   "cell_type": "markdown",
   "metadata": {},
   "source": [
    "## 2.2"
   ]
  },
  {
   "cell_type": "markdown",
   "metadata": {},
   "source": [
    "Here, we determine the replicating portfolio. Specifically, we determine the portfolio holdings $\\xi_t$ and $\\eta_t$ in the risky asset $S_t$ and the riskless asset $A_t$ (with $A_t = A_0e^{rt}$) such that the portfolio:\n",
    "\n",
    "\\begin{align}\n",
    "V_t = C(S_t, t) = ξ_tS_t + η_tA_t, \\quad 0 ≤ t ≤ T, \\notag\n",
    "\\end{align}\n",
    "\n",
    "replicates the derivative contract with payoff:\n",
    "\n",
    "\\begin{align}\n",
    "C(S_T , T ) = (S_T )^2. \\notag\n",
    "\\end{align}"
   ]
  },
  {
   "cell_type": "markdown",
   "metadata": {},
   "source": [
    "Notice that the payoff of the claim depens solely on the value of the stock at the terminal value $T$, hence the claim is European. It follows that theorem 6.11 from [1] (or theorem 5.4 from [2]) applies.\n",
    "\n",
    "In question (2.1) we have already solved the Black-Scholes PDE with the correct boundary condition $C(s,T)=s^2$. Hence, it follows by theorem 6.12 from [1] (or, again theorem 5.4 from [2]) directly that for $t\\in[0,T]$:\n",
    "\n",
    "\\begin{align}\n",
    "    \\xi_t = \\frac{\\partial}{\\partial s}\\Big(s^2 \\cdot \\text{exp}\\{(r+\\sigma^2)(T-t)\\}\\Big)\\Big\\vert_{s=S_t} = 2S_t\\cdot \\text{exp}\\{(r+\\sigma^2)(T-t)\\}, \\notag\n",
    "\\end{align}\n",
    "and\n",
    "\\begin{align}\n",
    "    \\eta_t = \\text{exp}\\{-rt  \\}\\big(s^2 \\cdot \\text{exp}\\{(r+\\sigma^2)(T-t)\\} - \\xi_t S_t\\big)\\Big\\vert_{s=S_t} = \\text{exp}\\{-rt\\}\\Big(-S_t^2 \\cdot \\text{exp}\\{(r+\\sigma^2)(T-t) \\}  \\Big). \\notag\n",
    "\\end{align}"
   ]
  },
  {
   "cell_type": "markdown",
   "metadata": {},
   "source": [
    "Just in case, we check whether this portfolio matches the payoff.\n",
    "\n",
    "We have:\n",
    "\n",
    "\\begin{align}\n",
    "    V_t &= ξ_tS_t + η_tA_t \\notag \\\\\n",
    "    &= 2 S_t^2 \\text{exp}\\{(r+\\sigma^2)(T-t) \\} \\;+\\;\\text{exp}\\{rt\\}\\text{exp}\\{-rt\\}\\Big(-S_t^2 \\cdot \\text{exp}\\{(r+\\sigma^2)(T-t)\\} \\Big) \\notag \\\\\n",
    "    &= S_t^2 \\text{exp}\\{(r+\\sigma^2)(T-t)\\}. \\notag\n",
    "\\end{align}\n",
    "\n",
    "It follows that in $t=T$, we have:\n",
    "\n",
    "\\begin{align}\n",
    "    S_T^2\\text{exp}\\{(r+\\sigma^2)(T-T)\\} = S_T^2 \\text{exp}\\{0\\} = S_T^2, \\notag\n",
    "\\end{align}\n",
    "\n",
    "Such that the payoff has been replicated correctly."
   ]
  },
  {
   "cell_type": "markdown",
   "metadata": {},
   "source": [
    "===================================================================================================================================================="
   ]
  },
  {
   "cell_type": "markdown",
   "metadata": {},
   "source": [
    "# EXERCISE 3"
   ]
  },
  {
   "cell_type": "markdown",
   "metadata": {},
   "source": [
    "# TASK 3"
   ]
  },
  {
   "cell_type": "markdown",
   "metadata": {},
   "source": [
    "Consider a vanilla option on an asset $S_t$. Its value process is given by:\n",
    "\n",
    "\\begin{align}\n",
    "    C(t,S;\\sigma_{imp}) :=C_t. \\notag\n",
    "\\end{align}\n",
    "\n",
    "The Black-Scholes-Merton PDE with implied volatility $\\sigma_{imp}$ is:\n",
    "\n",
    "\\begin{align}\n",
    "    rC_t - rS_t \\frac{\\partial C_t}{\\partial S_t} - \\frac{\\partial C_t}{\\partial t} - \\frac{1}{2}\\sigma_{imp}^2 S^2_t \\frac{\\partial^2 C_t}{\\partial S^2_t} = 0, \\notag\n",
    "\\end{align}\n",
    "with appropriate terminal conditions.\n",
    "\n",
    "The option delta is given by:\n",
    "\n",
    "\\begin{align}\n",
    "    \\Delta_t = \\frac{\\partial C_t}{\\partial S_t} \\notag.\n",
    "\\end{align}"
   ]
  },
  {
   "cell_type": "markdown",
   "metadata": {},
   "source": [
    "We show that t in order for the final P&L to vanish on average, the implied volatility $\\sigma_{imp}$, satisfies:\n",
    "\n",
    "\\begin{align}\n",
    "    E\\Bigg[\\int^T_0 e^{-rt} \\frac{1}{2}S^2_t \\frac{\\partial C_t}{\\partial S_t^2}(\\sigma^2_{imp} - \\sigma_t^2)dt  \\Bigg] = 0. \\notag\n",
    "\\end{align}"
   ]
  },
  {
   "cell_type": "markdown",
   "metadata": {},
   "source": [
    "We use p. 28 of the lecture notes in combination with the BSM PDE to conclude that, in this exercise, $q=0$. It follows that $P\\&L$ is given by:\n",
    "\n",
    "\\begin{align}\n",
    "     P\\&L = \\frac{\\partial C_t}{\\partial t}dt + \\frac{1}{2}\\frac{\\partial^2 C_t}{\\partial S^2_t} (dS_t)^2 - r(C_t-\\Delta_tS_t)dt, \\notag\n",
    "\\end{align}\n",
    "\n",
    "where $\\Delta_t$ is defined above.\n",
    "\n",
    "We rewrite the BSM PDE as\n",
    "\n",
    "\\begin{align}\n",
    "    rC_t = rS_t \\frac{\\partial C_t}{\\partial S_t} + \\frac{\\partial C_t}{\\partial t} + \\frac{1}{2}\\sigma_{imp}^2 S^2_t \\frac{\\partial^2 C_t}{\\partial S^2_t} ,\\notag\n",
    "\\end{align}\n",
    "\n",
    "and note that with p.25 of the lecture notes we have $(dS_t)^2 = \\sigma_t^2S_t^2dt$. Substitution now gives us:\n",
    "\n",
    "\\begin{align}\n",
    "     P\\&L = \\frac{1}{2}S_t^2 \\cdot \\frac{\\partial^2 C_t}{\\partial S^2_t}(\\sigma_t^2 - \\sigma^2_{imp})\\cdot dt. \\notag\n",
    "\\end{align}\n"
   ]
  },
  {
   "cell_type": "markdown",
   "metadata": {},
   "source": [
    "We discount with $e^{-rt}$ and obtain the final $P\\&L$ by integrating over t. It follows that:\n",
    "\n",
    "\\begin{align}\n",
    "    FINAL\\;P\\&L = \\int^T_0e^{-rt}\\frac{1}{2}S_t^2 \\cdot \\frac{\\partial^2 C_t}{\\partial S^2_t}(\\sigma_t^2 - \\sigma^2_{imp})\\cdot dt. \\notag\n",
    "\\end{align}\n"
   ]
  },
  {
   "cell_type": "markdown",
   "metadata": {},
   "source": [
    "Such that if we want final $P\\&L$ to vanish on average, we require:\n",
    "\n",
    "\\begin{align}\n",
    "    0 = E[FINAL\\;P\\&L] = E\\Bigg[\\int^T_0e^{-rt}\\frac{1}{2}S_t^2 \\cdot \\frac{\\partial^2 C_t}{\\partial S^2_t}(\\sigma_t^2 - \\sigma^2_{imp})\\cdot dt\\Bigg], \\notag\n",
    "\\end{align}\n",
    "\n",
    "or equivalently,\n",
    "\n",
    "\\begin{align}\n",
    "    0 = -E[FINAL\\;P\\&L] = E\\Bigg[\\int^T_0e^{-rt}\\frac{1}{2}S_t^2 \\cdot \\frac{\\partial^2 C_t}{\\partial S^2_t}(\\sigma_{imp}^2 - \\sigma^2_t)\\cdot dt\\Bigg]. \\notag\n",
    "\\end{align}\n",
    "\n",
    "This proves the claim."
   ]
  },
  {
   "cell_type": "markdown",
   "metadata": {},
   "source": [
    "Remark, note that minussen might be switched up because we might be considering a short position, this would flip all signs in the $P\\&L$-equation. However, since we prove equality to zero it renders itself irrelevant."
   ]
  },
  {
   "cell_type": "markdown",
   "metadata": {},
   "source": [
    "====================================================================================================================================="
   ]
  },
  {
   "cell_type": "markdown",
   "metadata": {},
   "source": [
    "# REFERENCES\n"
   ]
  },
  {
   "cell_type": "markdown",
   "metadata": {},
   "source": [
    "[1] Boshuizen, F., van der Vaart, A., van Zanten, H., Banachewicz, K., Zareba, P., Belitser, E., & Serra, P. (2023). Lecture notes for the course: Stochastic processes for finance. Last updated August 4, 2023.\n",
    "\n",
    "[2] Spreij, P. J. C. Introduction to stochastic finance in continuous time. (https://staff.fnwi.uva.nl/p.j.c.spreij/onderwijs/Hedging_en_Derivaten/hdsyllabus.pdf)"
   ]
  }
 ],
 "metadata": {
  "language_info": {
   "name": "python"
  }
 },
 "nbformat": 4,
 "nbformat_minor": 2
}
