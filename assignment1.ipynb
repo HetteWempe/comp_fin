{
 "cells": [
  {
   "cell_type": "markdown",
   "metadata": {},
   "source": [
    "# Assignment 1"
   ]
  },
  {
   "cell_type": "code",
   "execution_count": 17,
   "metadata": {},
   "outputs": [],
   "source": [
    "import matplotlib.pyplot as plt"
   ]
  },
  {
   "cell_type": "code",
   "execution_count": 7,
   "metadata": {},
   "outputs": [
    {
     "name": "stderr",
     "output_type": "stream",
     "text": [
      "[*********************100%***********************]  1 of 1 completed\n"
     ]
    }
   ],
   "source": [
    "import yfinance as yf\n",
    "import datetime\n",
    "\n",
    "ticker = \"AAPL\"\n",
    "\n",
    "start_date = \"2010-01-01\"\n",
    "end_date = datetime.datetime.now().strftime(\"%Y-%m-%d\")\n",
    "\n",
    "data = yf.download(ticker, start=start_date, end=end_date)\n"
   ]
  },
  {
   "cell_type": "code",
   "execution_count": 9,
   "metadata": {},
   "outputs": [
    {
     "name": "stdout",
     "output_type": "stream",
     "text": [
      "Price          Close      High       Low      Open     Volume\n",
      "Ticker          AAPL      AAPL      AAPL      AAPL       AAPL\n",
      "Date                                                         \n",
      "2010-01-04  6.440331  6.455077  6.391278  6.422877  493729600\n",
      "2010-01-05  6.451467  6.487880  6.417461  6.458088  601904800\n",
      "2010-01-06  6.348848  6.477047  6.342227  6.451467  552160000\n",
      "2010-01-07  6.337108  6.379842  6.291065  6.372318  477131200\n",
      "2010-01-08  6.379241  6.379843  6.291368  6.328684  447610800\n"
     ]
    }
   ],
   "source": [
    "print(data.head())"
   ]
  },
  {
   "cell_type": "code",
   "execution_count": 15,
   "metadata": {},
   "outputs": [],
   "source": [
    "closing_prices = data['Close']"
   ]
  },
  {
   "cell_type": "code",
   "execution_count": 18,
   "metadata": {},
   "outputs": [
    {
     "data": {
      "text/plain": [
       "[<matplotlib.lines.Line2D at 0x1cb6e3b3650>]"
      ]
     },
     "execution_count": 18,
     "metadata": {},
     "output_type": "execute_result"
    },
    {
     "data": {
      "image/png": "[encoded data removed]",
      "text/plain": [
       "<Figure size 640x480 with 1 Axes>"
      ]
     },
     "metadata": {},
     "output_type": "display_data"
    }
   ],
   "source": [
    "plt.plot(closing_prices)"
   ]
  },
  {
   "cell_type": "markdown",
   "metadata": {},
   "source": [
    "# EXERCISE 2"
   ]
  },
  {
   "cell_type": "markdown",
   "metadata": {},
   "source": [
    "## 2.1"
   ]
  },
  {
   "cell_type": "markdown",
   "metadata": {},
   "source": [
    "Here we solve the Black-Scholes PDE, given by:\n",
    "\n",
    "\\begin{align}\n",
    "    r C(s, t) = \\frac{\\partial C}{\\partial t}(s, t) + r s \\frac{\\partial C}{\\partial s}(s, t) + \\frac{\\sigma^2}{2} s^2 \\frac{\\partial^2 C}{\\partial s^2}(s, t), \\notag\n",
    "\\end{align}\n",
    "\n",
    "where $r\\geq 0$ denotes the risk-free interest rate, $s>0$, and $t \\in[0,T]$. The terminal condition is given by:\n",
    "\n",
    "\\begin{align}\n",
    "    C(s,T)=s^2. \\notag\n",
    "\\end{align}\n",
    "\n",
    "We try a solution of the form $C(s,t) = s^2f(t)$, and determine $f(t)$.\n"
   ]
  },
  {
   "cell_type": "markdown",
   "metadata": {},
   "source": [
    "We substitute the given solution and take derivatives accordingly to obtain:\n",
    "\n",
    "\\begin{align}\n",
    "    r s^2f(t) = s^2 f'(t) + 2rs^2f(t) + \\sigma^2s^2f(t) \\notag\\\\\n",
    "    f(t)(rs^2 - 2rs^2 - \\sigma^2s^2) = s^2f'(t) \\notag\\\\\n",
    "    f'(t) = (-r-\\sigma^2)f(t) \\notag\n",
    "\\end{align}\n",
    "\n",
    "This is an ODE we can solve, we obtain:\n",
    "\n",
    "\\begin{align}\n",
    "f(t) = A\\cdot \\text{exp}\\{-(r+\\sigma^2)t\\}. \\notag\n",
    "\\end{align}\n",
    "\n",
    "We use the given terminal condition to find the value for $A$:\n",
    "\n",
    "\\begin{align}\n",
    "C(s,T) = s^2f(T) = s^2 \\notag\\\\\n",
    "A\\cdot \\text{exp}\\{-(r+\\sigma^2)T\\} = 1\\notag\\\\\n",
    "A = \\text{exp}\\{(r+\\sigma^2)T\\} \\notag\n",
    "\\end{align}"
   ]
  },
  {
   "cell_type": "markdown",
   "metadata": {},
   "source": [
    "It follows the Black-Scholes PDE is solved for the following solution:\n",
    "\n",
    "\\begin{align}\n",
    "    C(s,t) = s^2 \\cdot \\text{exp}\\{(r+\\sigma^2)(T-t)\\} . \\notag\n",
    "\\end{align}"
   ]
  },
  {
   "cell_type": "markdown",
   "metadata": {},
   "source": [
    "## 2.2"
   ]
  },
  {
   "cell_type": "markdown",
   "metadata": {},
   "source": [
    "Here, we determine the replicating portfolio. Specifically, we determine the portfolio holdings $\\xi_t$ and $\\eta_t$ in the risky asset $S_t$ and the riskless asset $A_t$ (with $A_t = A_0e^{rt}$) such that the portfolio:\n",
    "\n",
    "\\begin{align}\n",
    "V_t = C(S_t, t) = ξ_tS_t + η_tA_t, \\quad 0 ≤ t ≤ T, \\notag\n",
    "\\end{align}\n",
    "\n",
    "replicates the derivative contract with payoff:\n",
    "\n",
    "\\begin{align}\n",
    "C(S_T , T ) = (S_T )^2. \\notag\n",
    "\\end{align}"
   ]
  },
  {
   "cell_type": "markdown",
   "metadata": {},
   "source": [
    "Notice that the payoff of the claim depens solely on the value of the stock at the terminal value $T$, hence the claim is European. It follows that theorem 6.11 from [1] (or theorem 5.4 from [2]) applies.\n",
    "\n",
    "In question (2.1) we have already solved the Black-Scholes PDE with the correct boundary condition $C(s,T)=s^2$. Hence, it follows by theorem 6.12 from [1] (or, again theorem 5.4 from [2]) directly that for $t\\in[0,T]$:\n",
    "\n",
    "\\begin{align}\n",
    "    \\xi_t = \\frac{\\partial}{\\partial s}\\Big(s^2 \\cdot \\text{exp}\\{(r+\\sigma^2)(T-t)\\}\\Big)\\Big\\vert_{s=S_t} = 2S_t\\cdot \\text{exp}\\{(r+\\sigma^2)(T-t)\\}, \\notag\n",
    "\\end{align}\n",
    "and\n",
    "\\begin{align}\n",
    "    \\eta_t = \\text{exp}\\{-rt  \\}\\big(s^2 \\cdot \\text{exp}\\{(r+\\sigma^2)(T-t)\\} - \\xi_t S_t\\big)\\Big\\vert_{s=S_t} = \\text{exp}\\{-rt\\}\\Big(-S_t^2 \\cdot \\text{exp}\\{(r+\\sigma^2)(T-t) \\}  \\Big). \\notag\n",
    "\\end{align}\n"
   ]
  },
  {
   "cell_type": "markdown",
   "metadata": {},
   "source": [
    "Just in case, we check whether this portfolio matches the payoff.\n",
    "\n",
    "We have:\n",
    "\n",
    "\\begin{align}\n",
    "    V_t &= ξ_tS_t + η_tA_t \\notag \\\\\n",
    "    &= 2 S_t^2 \\text{exp}\\{(r+\\sigma^2)(T-t) \\} \\;+\\;\\text{exp}\\{rt\\}\\text{exp}\\{-rt\\}\\Big(-S_t^2 \\cdot \\text{exp}\\{(r+\\sigma^2)(T-t)\\} \\Big) \\notag \\\\\n",
    "    &= S_t^2 \\text{exp}\\{(r+\\sigma^2)(T-t)\\}. \\notag\n",
    "\\end{align}\n",
    "\n",
    "It follows that in $t=T$, we have:\n",
    "\n",
    "\\begin{align}\n",
    "    S_T^2\\text{exp}\\{(r+\\sigma^2)(T-T)\\} = S_T^2 \\text{exp}\\{0\\} = S_T^2, \\notag\n",
    "\\end{align}\n",
    "\n",
    "Such that the payoff has been replicated correctly."
   ]
  },
  {
   "cell_type": "markdown",
   "metadata": {},
   "source": [
    "============================================================================================================================================================"
   ]
  },
  {
   "cell_type": "markdown",
   "metadata": {},
   "source": [
    "## EXERCISE 3"
   ]
  },
  {
   "cell_type": "markdown",
   "metadata": {},
   "source": [
    "============================================================================================================================================================"
   ]
  },
  {
   "cell_type": "markdown",
   "metadata": {},
   "source": [
    "# REFERENCES"
   ]
  },
  {
   "cell_type": "markdown",
   "metadata": {},
   "source": [
    "[1] Boshuizen, F., van der Vaart, A., van Zanten, H., Banachewicz, K., Zareba, P., Belitser, E., & Serra, P. (2023). Lecture notes for the course: Stochastic processes for finance. Last updated August 4, 2023.\n",
    "\n",
    "[2] Spreij, P. J. C. Introduction to stochastic finance in continuous time. (https://staff.fnwi.uva.nl/p.j.c.spreij/onderwijs/Hedging_en_Derivaten/hdsyllabus.pdf)"
   ]
  }
 ],
 "metadata": {
  "kernelspec": {
   "display_name": "Python 3",
   "language": "python",
   "name": "python3"
  },
  "language_info": {
   "codemirror_mode": {
    "name": "ipython",
    "version": 3
   },
   "file_extension": ".py",
   "mimetype": "text/x-python",
   "name": "python",
   "nbconvert_exporter": "python",
   "pygments_lexer": "ipython3",
   "version": "3.11.1"
  }
 },
 "nbformat": 4,
 "nbformat_minor": 2
}
